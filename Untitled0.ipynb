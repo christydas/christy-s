{
  "nbformat": 4,
  "nbformat_minor": 0,
  "metadata": {
    "colab": {
      "name": "Untitled0.ipynb",
      "provenance": [],
      "collapsed_sections": [],
      "mount_file_id": "1nfl7eqz9bNq878B6Mf88iDPQzrwupC22",
      "authorship_tag": "ABX9TyOZpkx0YqGE11acMbVBXDUE",
      "include_colab_link": true
    },
    "kernelspec": {
      "name": "python3",
      "display_name": "Python 3"
    }
  },
  "cells": [
    {
      "cell_type": "markdown",
      "metadata": {
        "id": "view-in-github",
        "colab_type": "text"
      },
      "source": [
        "<a href=\"https://colab.research.google.com/github/christydas/christy-s/blob/master/Untitled0.ipynb\" target=\"_parent\"><img src=\"https://colab.research.google.com/assets/colab-badge.svg\" alt=\"Open In Colab\"/></a>"
      ]
    },
    {
      "cell_type": "code",
      "metadata": {
        "id": "do96-BDwttiI"
      },
      "source": [
        "# CUSTOMER CHURN ANALYSIS\r\n",
        "#Predicting whether a customer is going to continue a subscription product or not.\r\n",
        "\r\n",
        "import pandas as pd\r\n",
        "import numpy as np\r\n",
        "import matplotlib.pyplot as plt\r\n",
        "import types"
      ],
      "execution_count": null,
      "outputs": []
    },
    {
      "cell_type": "code",
      "metadata": {
        "colab": {
          "base_uri": "https://localhost:8080/",
          "height": 241
        },
        "id": "YoydxS4Nt6rY",
        "outputId": "0df52b14-8f37-485f-fe6a-ede083c97e23"
      },
      "source": [
        "# Reading data from CSV to Dataframe\r\n",
        "dataset = pd.read_csv('/content/drive/My Drive/Colab Notebooks/datafiles/customer_churn.csv')\r\n",
        "dataset.head()\r\n"
      ],
      "execution_count": null,
      "outputs": [
        {
          "output_type": "execute_result",
          "data": {
            "text/html": [
              "<div>\n",
              "<style scoped>\n",
              "    .dataframe tbody tr th:only-of-type {\n",
              "        vertical-align: middle;\n",
              "    }\n",
              "\n",
              "    .dataframe tbody tr th {\n",
              "        vertical-align: top;\n",
              "    }\n",
              "\n",
              "    .dataframe thead th {\n",
              "        text-align: right;\n",
              "    }\n",
              "</style>\n",
              "<table border=\"1\" class=\"dataframe\">\n",
              "  <thead>\n",
              "    <tr style=\"text-align: right;\">\n",
              "      <th></th>\n",
              "      <th>ID</th>\n",
              "      <th>CHURN</th>\n",
              "      <th>Gender</th>\n",
              "      <th>Status</th>\n",
              "      <th>Children</th>\n",
              "      <th>Est Income</th>\n",
              "      <th>Car Owner</th>\n",
              "      <th>Age</th>\n",
              "      <th>LongDistance</th>\n",
              "      <th>International</th>\n",
              "      <th>Local</th>\n",
              "      <th>Dropped</th>\n",
              "      <th>Paymethod</th>\n",
              "      <th>LocalBilltype</th>\n",
              "      <th>LongDistanceBilltype</th>\n",
              "      <th>Usage</th>\n",
              "      <th>RatePlan</th>\n",
              "    </tr>\n",
              "  </thead>\n",
              "  <tbody>\n",
              "    <tr>\n",
              "      <th>0</th>\n",
              "      <td>1</td>\n",
              "      <td>T</td>\n",
              "      <td>F</td>\n",
              "      <td>S</td>\n",
              "      <td>1.0</td>\n",
              "      <td>38000.00</td>\n",
              "      <td>N</td>\n",
              "      <td>24.393333</td>\n",
              "      <td>23.56</td>\n",
              "      <td>0.0</td>\n",
              "      <td>206.08</td>\n",
              "      <td>0.0</td>\n",
              "      <td>CC</td>\n",
              "      <td>Budget</td>\n",
              "      <td>Intnl_discount</td>\n",
              "      <td>229.64</td>\n",
              "      <td>3.0</td>\n",
              "    </tr>\n",
              "    <tr>\n",
              "      <th>1</th>\n",
              "      <td>6</td>\n",
              "      <td>F</td>\n",
              "      <td>M</td>\n",
              "      <td>M</td>\n",
              "      <td>2.0</td>\n",
              "      <td>29616.00</td>\n",
              "      <td>N</td>\n",
              "      <td>49.426667</td>\n",
              "      <td>29.78</td>\n",
              "      <td>0.0</td>\n",
              "      <td>45.50</td>\n",
              "      <td>0.0</td>\n",
              "      <td>CH</td>\n",
              "      <td>FreeLocal</td>\n",
              "      <td>Standard</td>\n",
              "      <td>75.29</td>\n",
              "      <td>2.0</td>\n",
              "    </tr>\n",
              "    <tr>\n",
              "      <th>2</th>\n",
              "      <td>8</td>\n",
              "      <td>F</td>\n",
              "      <td>M</td>\n",
              "      <td>M</td>\n",
              "      <td>0.0</td>\n",
              "      <td>19732.80</td>\n",
              "      <td>N</td>\n",
              "      <td>50.673333</td>\n",
              "      <td>24.81</td>\n",
              "      <td>0.0</td>\n",
              "      <td>22.44</td>\n",
              "      <td>0.0</td>\n",
              "      <td>CC</td>\n",
              "      <td>FreeLocal</td>\n",
              "      <td>Standard</td>\n",
              "      <td>47.25</td>\n",
              "      <td>3.0</td>\n",
              "    </tr>\n",
              "    <tr>\n",
              "      <th>3</th>\n",
              "      <td>11</td>\n",
              "      <td>F</td>\n",
              "      <td>M</td>\n",
              "      <td>S</td>\n",
              "      <td>2.0</td>\n",
              "      <td>96.33</td>\n",
              "      <td>N</td>\n",
              "      <td>56.473333</td>\n",
              "      <td>26.13</td>\n",
              "      <td>0.0</td>\n",
              "      <td>32.88</td>\n",
              "      <td>1.0</td>\n",
              "      <td>CC</td>\n",
              "      <td>Budget</td>\n",
              "      <td>Standard</td>\n",
              "      <td>59.01</td>\n",
              "      <td>1.0</td>\n",
              "    </tr>\n",
              "    <tr>\n",
              "      <th>4</th>\n",
              "      <td>14</td>\n",
              "      <td>F</td>\n",
              "      <td>F</td>\n",
              "      <td>M</td>\n",
              "      <td>2.0</td>\n",
              "      <td>52004.80</td>\n",
              "      <td>N</td>\n",
              "      <td>25.140000</td>\n",
              "      <td>5.03</td>\n",
              "      <td>0.0</td>\n",
              "      <td>23.11</td>\n",
              "      <td>0.0</td>\n",
              "      <td>CH</td>\n",
              "      <td>Budget</td>\n",
              "      <td>Intnl_discount</td>\n",
              "      <td>28.14</td>\n",
              "      <td>1.0</td>\n",
              "    </tr>\n",
              "  </tbody>\n",
              "</table>\n",
              "</div>"
            ],
            "text/plain": [
              "   ID CHURN Gender Status  ...  LocalBilltype  LongDistanceBilltype   Usage  RatePlan\n",
              "0   1     T      F      S  ...         Budget        Intnl_discount  229.64       3.0\n",
              "1   6     F      M      M  ...      FreeLocal              Standard   75.29       2.0\n",
              "2   8     F      M      M  ...      FreeLocal              Standard   47.25       3.0\n",
              "3  11     F      M      S  ...         Budget              Standard   59.01       1.0\n",
              "4  14     F      F      M  ...         Budget        Intnl_discount   28.14       1.0\n",
              "\n",
              "[5 rows x 17 columns]"
            ]
          },
          "metadata": {
            "tags": []
          },
          "execution_count": 25
        }
      ]
    },
    {
      "cell_type": "code",
      "metadata": {
        "colab": {
          "base_uri": "https://localhost:8080/"
        },
        "id": "HxDIHEpN19wK",
        "outputId": "acd5916f-a6dd-4254-cfc7-262c81df9fdd"
      },
      "source": [
        "dataset.dtypes"
      ],
      "execution_count": null,
      "outputs": [
        {
          "output_type": "execute_result",
          "data": {
            "text/plain": [
              "ID                        int64\n",
              "CHURN                    object\n",
              "Gender                   object\n",
              "Status                   object\n",
              "Children                float64\n",
              "Est Income              float64\n",
              "Car Owner                object\n",
              "Age                     float64\n",
              "LongDistance            float64\n",
              "International           float64\n",
              "Local                   float64\n",
              "Dropped                 float64\n",
              "Paymethod                object\n",
              "LocalBilltype            object\n",
              "LongDistanceBilltype     object\n",
              "Usage                   float64\n",
              "RatePlan                float64\n",
              "dtype: object"
            ]
          },
          "metadata": {
            "tags": []
          },
          "execution_count": 26
        }
      ]
    },
    {
      "cell_type": "code",
      "metadata": {
        "colab": {
          "base_uri": "https://localhost:8080/"
        },
        "id": "l6eZNzoI2ALl",
        "outputId": "a93ea088-236c-4c5f-f703-fa0ff27d8805"
      },
      "source": [
        "# Conver dataframe coloums to categories inorder to create decision tree.\r\n",
        "\r\n",
        "dataset['CHURN'] = dataset['CHURN'].astype('category')\r\n",
        "dataset['Gender'] = dataset['Gender'].astype('category')\r\n",
        "dataset['Status'] = dataset['Status'].astype('category')\r\n",
        "dataset['Car Owner'] = dataset['Car Owner'].astype('category')\r\n",
        "dataset['Paymethod'] = dataset['Paymethod'].astype('category')\r\n",
        "dataset['LocalBilltype'] = dataset['LocalBilltype'].astype('category') \r\n",
        "dataset['LongDistanceBilltype'] = dataset['LongDistanceBilltype'].astype('category')\r\n",
        "\r\n",
        "dataset.info()"
      ],
      "execution_count": null,
      "outputs": [
        {
          "output_type": "stream",
          "text": [
            "<class 'pandas.core.frame.DataFrame'>\n",
            "RangeIndex: 2066 entries, 0 to 2065\n",
            "Data columns (total 17 columns):\n",
            " #   Column                Non-Null Count  Dtype   \n",
            "---  ------                --------------  -----   \n",
            " 0   ID                    2066 non-null   int64   \n",
            " 1   CHURN                 2066 non-null   category\n",
            " 2   Gender                2066 non-null   category\n",
            " 3   Status                2066 non-null   category\n",
            " 4   Children              2066 non-null   float64 \n",
            " 5   Est Income            2066 non-null   float64 \n",
            " 6   Car Owner             2066 non-null   category\n",
            " 7   Age                   2066 non-null   float64 \n",
            " 8   LongDistance          2066 non-null   float64 \n",
            " 9   International         2066 non-null   float64 \n",
            " 10  Local                 2066 non-null   float64 \n",
            " 11  Dropped               2066 non-null   float64 \n",
            " 12  Paymethod             2066 non-null   category\n",
            " 13  LocalBilltype         2066 non-null   category\n",
            " 14  LongDistanceBilltype  2066 non-null   category\n",
            " 15  Usage                 2066 non-null   float64 \n",
            " 16  RatePlan              2066 non-null   float64 \n",
            "dtypes: category(7), float64(9), int64(1)\n",
            "memory usage: 176.3 KB\n"
          ],
          "name": "stdout"
        }
      ]
    },
    {
      "cell_type": "code",
      "metadata": {
        "colab": {
          "base_uri": "https://localhost:8080/",
          "height": 241
        },
        "id": "cvG6TKVR3pBI",
        "outputId": "980e0025-db38-41df-d722-00d3fed70ffa"
      },
      "source": [
        "# Creating T/F variables to binary vafriables.\r\n",
        "\r\n",
        "cat_columns = dataset.select_dtypes(['category']).columns\r\n",
        "dataset[cat_columns] = dataset[cat_columns].apply(lambda x: x.cat.codes)\r\n",
        "\r\n",
        "dataset.head()"
      ],
      "execution_count": null,
      "outputs": [
        {
          "output_type": "execute_result",
          "data": {
            "text/html": [
              "<div>\n",
              "<style scoped>\n",
              "    .dataframe tbody tr th:only-of-type {\n",
              "        vertical-align: middle;\n",
              "    }\n",
              "\n",
              "    .dataframe tbody tr th {\n",
              "        vertical-align: top;\n",
              "    }\n",
              "\n",
              "    .dataframe thead th {\n",
              "        text-align: right;\n",
              "    }\n",
              "</style>\n",
              "<table border=\"1\" class=\"dataframe\">\n",
              "  <thead>\n",
              "    <tr style=\"text-align: right;\">\n",
              "      <th></th>\n",
              "      <th>ID</th>\n",
              "      <th>CHURN</th>\n",
              "      <th>Gender</th>\n",
              "      <th>Status</th>\n",
              "      <th>Children</th>\n",
              "      <th>Est Income</th>\n",
              "      <th>Car Owner</th>\n",
              "      <th>Age</th>\n",
              "      <th>LongDistance</th>\n",
              "      <th>International</th>\n",
              "      <th>Local</th>\n",
              "      <th>Dropped</th>\n",
              "      <th>Paymethod</th>\n",
              "      <th>LocalBilltype</th>\n",
              "      <th>LongDistanceBilltype</th>\n",
              "      <th>Usage</th>\n",
              "      <th>RatePlan</th>\n",
              "    </tr>\n",
              "  </thead>\n",
              "  <tbody>\n",
              "    <tr>\n",
              "      <th>0</th>\n",
              "      <td>1</td>\n",
              "      <td>1</td>\n",
              "      <td>0</td>\n",
              "      <td>2</td>\n",
              "      <td>1.0</td>\n",
              "      <td>38000.00</td>\n",
              "      <td>0</td>\n",
              "      <td>24.393333</td>\n",
              "      <td>23.56</td>\n",
              "      <td>0.0</td>\n",
              "      <td>206.08</td>\n",
              "      <td>0.0</td>\n",
              "      <td>1</td>\n",
              "      <td>0</td>\n",
              "      <td>0</td>\n",
              "      <td>229.64</td>\n",
              "      <td>3.0</td>\n",
              "    </tr>\n",
              "    <tr>\n",
              "      <th>1</th>\n",
              "      <td>6</td>\n",
              "      <td>0</td>\n",
              "      <td>1</td>\n",
              "      <td>1</td>\n",
              "      <td>2.0</td>\n",
              "      <td>29616.00</td>\n",
              "      <td>0</td>\n",
              "      <td>49.426667</td>\n",
              "      <td>29.78</td>\n",
              "      <td>0.0</td>\n",
              "      <td>45.50</td>\n",
              "      <td>0.0</td>\n",
              "      <td>2</td>\n",
              "      <td>1</td>\n",
              "      <td>1</td>\n",
              "      <td>75.29</td>\n",
              "      <td>2.0</td>\n",
              "    </tr>\n",
              "    <tr>\n",
              "      <th>2</th>\n",
              "      <td>8</td>\n",
              "      <td>0</td>\n",
              "      <td>1</td>\n",
              "      <td>1</td>\n",
              "      <td>0.0</td>\n",
              "      <td>19732.80</td>\n",
              "      <td>0</td>\n",
              "      <td>50.673333</td>\n",
              "      <td>24.81</td>\n",
              "      <td>0.0</td>\n",
              "      <td>22.44</td>\n",
              "      <td>0.0</td>\n",
              "      <td>1</td>\n",
              "      <td>1</td>\n",
              "      <td>1</td>\n",
              "      <td>47.25</td>\n",
              "      <td>3.0</td>\n",
              "    </tr>\n",
              "    <tr>\n",
              "      <th>3</th>\n",
              "      <td>11</td>\n",
              "      <td>0</td>\n",
              "      <td>1</td>\n",
              "      <td>2</td>\n",
              "      <td>2.0</td>\n",
              "      <td>96.33</td>\n",
              "      <td>0</td>\n",
              "      <td>56.473333</td>\n",
              "      <td>26.13</td>\n",
              "      <td>0.0</td>\n",
              "      <td>32.88</td>\n",
              "      <td>1.0</td>\n",
              "      <td>1</td>\n",
              "      <td>0</td>\n",
              "      <td>1</td>\n",
              "      <td>59.01</td>\n",
              "      <td>1.0</td>\n",
              "    </tr>\n",
              "    <tr>\n",
              "      <th>4</th>\n",
              "      <td>14</td>\n",
              "      <td>0</td>\n",
              "      <td>0</td>\n",
              "      <td>1</td>\n",
              "      <td>2.0</td>\n",
              "      <td>52004.80</td>\n",
              "      <td>0</td>\n",
              "      <td>25.140000</td>\n",
              "      <td>5.03</td>\n",
              "      <td>0.0</td>\n",
              "      <td>23.11</td>\n",
              "      <td>0.0</td>\n",
              "      <td>2</td>\n",
              "      <td>0</td>\n",
              "      <td>0</td>\n",
              "      <td>28.14</td>\n",
              "      <td>1.0</td>\n",
              "    </tr>\n",
              "  </tbody>\n",
              "</table>\n",
              "</div>"
            ],
            "text/plain": [
              "   ID  CHURN  Gender  ...  LongDistanceBilltype   Usage  RatePlan\n",
              "0   1      1       0  ...                     0  229.64       3.0\n",
              "1   6      0       1  ...                     1   75.29       2.0\n",
              "2   8      0       1  ...                     1   47.25       3.0\n",
              "3  11      0       1  ...                     1   59.01       1.0\n",
              "4  14      0       0  ...                     0   28.14       1.0\n",
              "\n",
              "[5 rows x 17 columns]"
            ]
          },
          "metadata": {
            "tags": []
          },
          "execution_count": 40
        }
      ]
    },
    {
      "cell_type": "code",
      "metadata": {
        "id": "p-vspnoa57Rx"
      },
      "source": [
        "#Splitting the dataset\r\n",
        "\r\n",
        "x = dataset.iloc[:, [0,2,3,4,5,6,7,8,9,10,11,12,13,14,15,16]].values\r\n",
        "y = dataset.iloc[:, 1].values\r\n",
        "\r\n",
        "from sklearn.model_selection import train_test_split\r\n",
        "x_train, x_test, y_train, y_test = train_test_split(x, y, test_size = 0.25, random_state = 0)\r\n"
      ],
      "execution_count": null,
      "outputs": []
    },
    {
      "cell_type": "code",
      "metadata": {
        "id": "Py0pP5lu3dfO"
      },
      "source": [
        "# Scaling the numerical values\r\n",
        "\r\n",
        "from sklearn.preprocessing import StandardScaler\r\n",
        "sc = StandardScaler()\r\n",
        "x_train = sc.fit_transform(x_train)\r\n",
        "x_test = sc.transform(x_test)\r\n"
      ],
      "execution_count": null,
      "outputs": []
    },
    {
      "cell_type": "code",
      "metadata": {
        "id": "nnlrGPWe78_8"
      },
      "source": [
        "# Using decisioin tree classifier\r\n",
        "\r\n",
        "from sklearn.tree import DecisionTreeClassifier\r\n",
        "classifier = DecisionTreeClassifier(criterion = 'entropy', random_state = 0)\r\n",
        "classifier.fit(x_train, y_train)\r\n",
        "y_pred = classifier.predict(x_test)"
      ],
      "execution_count": null,
      "outputs": []
    },
    {
      "cell_type": "code",
      "metadata": {
        "colab": {
          "base_uri": "https://localhost:8080/"
        },
        "id": "ob2UdikV9Obd",
        "outputId": "620e887b-0f61-4740-b35f-c8d9d5a49f98"
      },
      "source": [
        "# Creating the confusion matrix\r\n",
        "\r\n",
        "from sklearn.model_selection import cross_val_score\r\n",
        "from sklearn.metrics import classification_report, confusion_matrix\r\n",
        "\r\n",
        "rfc_cv_score = cross_val_score(classifier, x, y, cv=10, scoring='roc_auc')\r\n",
        "print(\"===confusion_matrix===\")\r\n",
        "print(confusion_matrix(y_test, y_pred))\r\n",
        "print('\\n')\r\n"
      ],
      "execution_count": null,
      "outputs": [
        {
          "output_type": "stream",
          "text": [
            "===confusion_matrix===\n",
            "[[290  15]\n",
            " [ 25 187]]\n",
            "\n",
            "\n"
          ],
          "name": "stdout"
        }
      ]
    },
    {
      "cell_type": "code",
      "metadata": {
        "colab": {
          "base_uri": "https://localhost:8080/"
        },
        "id": "nT3Vx0oo-tF5",
        "outputId": "97b07440-cb2a-4489-f6ec-509ff6658f61"
      },
      "source": [
        "# Precision, Recall& Accuracy\r\n",
        "\r\n",
        "from sklearn.metrics import precision_score, recall_score, accuracy_score\r\n",
        "precision_metrics = precision_score(y_test, y_pred, average = \"macro\")\r\n",
        "recall_metrics = recall_score(y_test, y_pred, average = \"macro\")\r\n",
        "accuracy_metrics = accuracy_score(y_test, y_pred)\r\n",
        "\r\n",
        "print('Precision score: {0:0.4f}'.format(precision_metrics))\r\n",
        "print('Recall score: {0:0.4f}'.format(recall_metrics))\r\n",
        "print('Accuracy score: {0:0.4f}'.format(accuracy_metrics))"
      ],
      "execution_count": null,
      "outputs": [
        {
          "output_type": "stream",
          "text": [
            "Precision score: 0.9232\n",
            "Recall score: 0.9164\n",
            "Accuracy score: 0.9226\n"
          ],
          "name": "stdout"
        }
      ]
    },
    {
      "cell_type": "code",
      "metadata": {
        "id": "NI3s9IwtA4ay"
      },
      "source": [
        "# This is a pretty good model with the accuracy of 0.9226."
      ],
      "execution_count": null,
      "outputs": []
    }
  ]
}